{
  "nbformat": 4,
  "nbformat_minor": 0,
  "metadata": {
    "colab": {
      "provenance": [],
      "authorship_tag": "ABX9TyOoyxVlIOoUILK197qQJ+hk",
      "include_colab_link": true
    },
    "kernelspec": {
      "name": "python3",
      "display_name": "Python 3"
    },
    "language_info": {
      "name": "python"
    }
  },
  "cells": [
    {
      "cell_type": "markdown",
      "metadata": {
        "id": "view-in-github",
        "colab_type": "text"
      },
      "source": [
        "<a href=\"https://colab.research.google.com/github/LemonxBlade/Python-Projects/blob/main/Trying%20out%20Colab.ipynb\" target=\"_parent\"><img src=\"https://colab.research.google.com/assets/colab-badge.svg\" alt=\"Open In Colab\"/></a>"
      ]
    },
    {
      "cell_type": "code",
      "execution_count": null,
      "metadata": {
        "colab": {
          "base_uri": "https://localhost:8080/"
        },
        "id": "w6usC3f-elby",
        "outputId": "49b68774-4170-4e63-bef5-2baeaace9d03"
      },
      "outputs": [
        {
          "output_type": "stream",
          "name": "stdout",
          "text": [
            "Word: ______  Misses:  0\n",
            "Guess a letter: a\n",
            "Correct! Well done.\n",
            "Word: __a___  Misses:  0\n",
            "Guess a letter: e\n",
            "Correct! Well done.\n",
            "Word: __a__e  Misses:  0\n",
            "Guess a letter: i\n",
            "Incorrect. Sorry.\n",
            "Word: __a__e  Misses:  1\n",
            "Guess a letter: p\n",
            "Incorrect. Sorry.\n",
            "Word: __a__e  Misses:  2\n",
            "Guess a letter: g\n",
            "Correct! Well done.\n",
            "Word: __a_ge  Misses:  2\n",
            "Guess a letter: o\n",
            "Correct! Well done.\n",
            "Word: o_a_ge  Misses:  2\n",
            "Guess a letter: r\n",
            "Correct! Well done.\n",
            "Word: ora_ge  Misses:  2\n",
            "Guess a letter: n\n",
            "Correct! Well done.\n",
            "You have won the game! Congratulations.\n"
          ]
        }
      ],
      "source": [
        "import random\n",
        "\n",
        "# List of words to use in the game\n",
        "WORDS = [\"apple\", \"banana\", \"orange\", \"grape\"]\n",
        "\n",
        "# Select a random word from the list\n",
        "word = random.choice(WORDS)\n",
        "\n",
        "# Set up the game state\n",
        "guesses = []  # List of letters the player has guessed\n",
        "misses = 0   # Number of incorrect guesses\n",
        "\n",
        "# Main game loop\n",
        "while True:\n",
        "    # Print the current state of the game\n",
        "    print(\"Word: \", end=\"\")\n",
        "    for letter in word:\n",
        "        if letter in guesses:\n",
        "            print(letter, end=\"\")\n",
        "        else:\n",
        "            print(\"_\", end=\"\")\n",
        "    print(\"  Misses: \", misses)\n",
        "\n",
        "    # Prompt the player for a letter to guess\n",
        "    guess = input(\"Guess a letter: \").lower()\n",
        "\n",
        "    # Check if the player has already guessed this letter\n",
        "    if guess in guesses:\n",
        "        print(\"You have already guessed this letter. Please try again.\")\n",
        "        continue\n",
        "\n",
        "    # Check if the player's guess is correct\n",
        "    if guess in word:\n",
        "        print(\"Correct! Well done.\")\n",
        "        guesses.append(guess)\n",
        "    else:\n",
        "        print(\"Incorrect. Sorry.\")\n",
        "        misses += 1\n",
        "\n",
        "    # Check if the player has won or lost\n",
        "    if misses == 6:\n",
        "        print(\"You have lost the game. The correct word was:\", word)\n",
        "        break\n",
        "    if all(letter in guesses for letter in word):\n",
        "        print(\"You have won the game! Congratulations.\")\n",
        "        break\n"
      ]
    },
    {
      "cell_type": "code",
      "source": [
        "def print_tree(height):\n",
        "  # Create a list of spaces and asterisks that will be used to build the tree\n",
        "  tree = [' '*(height-1) + '*' + ' '*(height-1)]\n",
        "  for i in range(1, height):\n",
        "    # Add a new layer to the tree, consisting of spaces, asterisks, and more spaces\n",
        "    tree.append(' '*(height-i-1) + '*'*(2*i+1) + ' '*(height-i-1))\n",
        "  # Print each layer of the tree on a separate line\n",
        "  for row in tree:\n",
        "    print(row)\n",
        "\n",
        "# Print a tree that is 5 rows tall\n",
        "print_tree(5)\n"
      ],
      "metadata": {
        "id": "nNkLh6qFklmq",
        "colab": {
          "base_uri": "https://localhost:8080/"
        },
        "outputId": "f683a309-533d-436c-90fa-63fdf7a0a552"
      },
      "execution_count": 3,
      "outputs": [
        {
          "output_type": "stream",
          "name": "stdout",
          "text": [
            "    *    \n",
            "   ***   \n",
            "  *****  \n",
            " ******* \n",
            "*********\n"
          ]
        }
      ]
    }
  ]
}